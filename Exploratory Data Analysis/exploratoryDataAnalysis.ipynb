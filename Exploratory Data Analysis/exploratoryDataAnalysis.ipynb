{
 "cells": [
  {
   "attachments": {},
   "cell_type": "markdown",
   "metadata": {},
   "source": [
    "# Exploratory Data Analysis\n"
   ]
  },
  {
   "attachments": {},
   "cell_type": "markdown",
   "metadata": {},
   "source": [
    "## 1. Elements of Structured Data\n",
    "\n",
    "\n",
    "Two basic types of structured data: numeric and categorical.\n",
    "\n",
    "- **Numeric Data:** that are expressed on a numeric scale. \n",
    "    - Continuous Data: that can take on any value in an interval. (Synonyms: interval, float, numeric)\n",
    "    - Discrete Data: that can take on only integer values, such as counts. (Synonyms: integer, count)\n",
    "    \n",
    "\n",
    "\n",
    "    \n",
    "- **Categorical Data:** that can take on only a specific set of values representing a set of possible categories. (Synonyms: enums, enumerated, factors, nominal)\n",
    "    - Binary: A special case of categorical data with just two categories of values, e.g., 0/1, true/false. (Synonyms: dichotomous, logical, indicator, boolean)\n",
    "    - Ordinal Categorical data: that has an explicit ordering. (Synonym: ordered factor)"
   ]
  },
  {
   "cell_type": "code",
   "execution_count": 3,
   "metadata": {},
   "outputs": [],
   "source": [
    "import pandas as pd\n",
    "import numpy as np"
   ]
  },
  {
   "cell_type": "code",
   "execution_count": 9,
   "metadata": {},
   "outputs": [
    {
     "data": {
      "text/plain": [
       "string                                object\n",
       "int64                                  int64\n",
       "uint8                                  uint8\n",
       "float64                              float64\n",
       "bool1                                   bool\n",
       "bool2                                   bool\n",
       "dates                         datetime64[ns]\n",
       "category                            category\n",
       "tdeltas                      timedelta64[ns]\n",
       "uint64                                uint64\n",
       "other_dates                   datetime64[ns]\n",
       "tz_aware_dates    datetime64[ns, US/Eastern]\n",
       "dtype: object"
      ]
     },
     "execution_count": 9,
     "metadata": {},
     "output_type": "execute_result"
    }
   ],
   "source": [
    "df = pd.DataFrame(\n",
    "     {\n",
    "         \"string\": list(\"abc\"),\n",
    "         \"int64\": list(range(1, 4)),\n",
    "         \"uint8\": np.arange(3, 6).astype(\"u1\"),\n",
    "         \"float64\": np.arange(4.0, 7.0),\n",
    "         \"bool1\": [True, False, True],\n",
    "         \"bool2\": [False, True, False],\n",
    "         \"dates\": pd.date_range(\"now\", periods=3),\n",
    "         \"category\": pd.Series(list(\"ABC\")).astype(\"category\"),\n",
    "     }\n",
    " )\n",
    " \n",
    "\n",
    "df[\"tdeltas\"] = df.dates.diff()\n",
    "\n",
    "df[\"uint64\"] = np.arange(3, 6).astype(\"u8\")\n",
    "\n",
    "df[\"other_dates\"] = pd.date_range(\"20130101\", periods=3)\n",
    "\n",
    "df[\"tz_aware_dates\"] = pd.date_range(\"20130101\", periods=3, tz=\"US/Eastern\")\n",
    "\n",
    "df.dtypes\n"
   ]
  },
  {
   "cell_type": "code",
   "execution_count": 40,
   "metadata": {},
   "outputs": [
    {
     "name": "stdout",
     "output_type": "stream",
     "text": [
      "225\n"
     ]
    }
   ],
   "source": [
    "a = 15\n",
    "b = a - 1\n",
    "c = b*2\n",
    "d = c*2\n",
    "e = d*2\n",
    "\n",
    "print(a + b + c + d + e)"
   ]
  }
 ],
 "metadata": {
  "kernelspec": {
   "display_name": "Python 3",
   "language": "python",
   "name": "python3"
  },
  "language_info": {
   "codemirror_mode": {
    "name": "ipython",
    "version": 3
   },
   "file_extension": ".py",
   "mimetype": "text/x-python",
   "name": "python",
   "nbconvert_exporter": "python",
   "pygments_lexer": "ipython3",
   "version": "3.9.6"
  },
  "orig_nbformat": 4
 },
 "nbformat": 4,
 "nbformat_minor": 2
}
